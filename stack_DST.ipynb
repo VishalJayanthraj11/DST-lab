{
  "nbformat": 4,
  "nbformat_minor": 0,
  "metadata": {
    "colab": {
      "provenance": []
    },
    "kernelspec": {
      "name": "python3",
      "display_name": "Python 3"
    },
    "language_info": {
      "name": "python"
    }
  },
  "cells": [
    {
      "cell_type": "code",
      "execution_count": 2,
      "metadata": {
        "id": "uy5VdfdTsNGV",
        "colab": {
          "base_uri": "https://localhost:8080/"
        },
        "outputId": "db68f196-92fd-4195-8ece-2a79109703e2"
      },
      "outputs": [
        {
          "name": "stdout",
          "output_type": "stream",
          "text": [
            "Enter no.of elements to be present in  the stack:3\n",
            "Select the operation 1.push 2.pop 3.quit\n",
            "1\n",
            "Enter the element:1\n",
            "[1]\n",
            "Select the operation 1.push 2.pop 3.quit\n",
            "1\n",
            "Enter the element:2\n",
            "[1, 2]\n",
            "Select the operation 1.push 2.pop 3.quit\n",
            "1\n",
            "Enter the element:3\n",
            "[1, 2, 3]\n",
            "Select the operation 1.push 2.pop 3.quit\n",
            "1\n",
            "Enter the element:4\n",
            "[1, 2, 3, 4]\n",
            "Select the operation 1.push 2.pop 3.quit\n",
            "2\n",
            "removed element is: 4\n",
            "[1, 2, 3]\n",
            "Select the operation 1.push 2.pop 3.quit\n",
            "3\n"
          ]
        }
      ],
      "source": [
        "# choose the option that will alter stacks\n",
        "stack=[]\n",
        "x=input(\"Enter no.of elements to be present in  the stack:\")\n",
        "def push():\n",
        "  if len(stack)==x:\n",
        "      print(\"Stack overflow\")\n",
        "      return\n",
        "  else:\n",
        "    element=int(input(\"Enter the element:\"))\n",
        "    stack.append(element)\n",
        "    print(stack)\n",
        "def pop_element():\n",
        "  if not stack:\n",
        "    print(\"stack is empty!\")\n",
        "  else:\n",
        "    e=stack.pop()\n",
        "    print(\"removed element is:\",e)\n",
        "    print(stack)\n",
        "\n",
        "while True:\n",
        "  print(\"Select the operation 1.push 2.pop 3.quit\")\n",
        "  choice=int(input())\n",
        "  if choice==1:\n",
        "    push()\n",
        "  elif choice==2:\n",
        "    pop_element()\n",
        "  elif  choice==3:\n",
        "    break\n",
        "  else:\n",
        "    print(\"Enter a valid operator!\")"
      ]
    },
    {
      "cell_type": "code",
      "source": [
        "class Node:\n",
        "    def __init__(self,data):\n",
        "        self.data=data\n",
        "        self.next=None\n",
        "def push(head,data):\n",
        "    newP=Node(data)\n",
        "    newP.next=head\n",
        "    if head!=None:\n",
        "        temp=head\n",
        "        while(temp.next!=head):\n",
        "            temp=temp.next\n",
        "        temp.next=newP\n",
        "    else:\n",
        "        newP.next=newP\n",
        "    head=newP\n",
        "    return head\n",
        "def printList(head):\n",
        "    if head==None:\n",
        "        print(\"List is empty\")\n",
        "        return\n",
        "    temp=head.next\n",
        "    print(head.data,end=' ')\n",
        "    if head!=None:\n",
        "        while(temp!=head):\n",
        "            print(temp.data,end=\" \")\n",
        "            temp=temp.next\n",
        "    print()\n",
        "def deleteNode(head, key):\n",
        "\tif (head == None):\n",
        "\t\treturn\n",
        "\n",
        "\tif (head.data == key and head.next == head):\n",
        "\t\thead = None\n",
        "\t\treturn\n",
        "\n",
        "\tlast = head\n",
        "\n",
        "\n",
        "\tif (head.data == key):\n",
        "\t\twhile (last.next != head):\n",
        "\t\t\tlast = last.next\n",
        "\n",
        "\n",
        "\t\tlast.next = head.next\n",
        "\t\thead = last.next\n",
        "\t\treturn\n",
        "\n",
        "\n",
        "\twhile (last.next != head and last.next.data != key):\n",
        "\t\tlast = last.next\n",
        "\n",
        "\n",
        "\tif (last.next.data == key):\n",
        "\t\td = last.next\n",
        "\t\tlast.next = d.next\n",
        "\t\td = None\n",
        "\telse:\n",
        "\t\tprint(\"Given node is not found in the list!!!\")\n",
        "\n",
        "\n",
        "head=None\n",
        "head=push(head,2)\n",
        "head=push(head,5)\n",
        "head=push(head,7)\n",
        "head=push(head,8)\n",
        "head=push(head,10)\n",
        "print(\"list before deletion: \")\n",
        "printList(head)\n",
        "deleteNode(head,7)\n",
        "print(\"list after deletion: \")\n",
        "printList(head)"
      ],
      "metadata": {
        "colab": {
          "base_uri": "https://localhost:8080/"
        },
        "id": "YiwK5PNFtN8x",
        "outputId": "336b01fb-80ef-4e16-d216-9f5e75c9ffdf"
      },
      "execution_count": null,
      "outputs": [
        {
          "output_type": "stream",
          "name": "stdout",
          "text": [
            "list before deletion: \n",
            "10 8 7 5 2 \n",
            "list after deletion: \n",
            "10 8 5 2 \n"
          ]
        }
      ]
    }
  ]
}